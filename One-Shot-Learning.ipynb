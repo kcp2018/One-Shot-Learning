{
 "cells": [
  {
   "cell_type": "code",
   "execution_count": 2,
   "metadata": {},
   "outputs": [
    {
     "ename": "NameError",
     "evalue": "name '__file__' is not defined",
     "output_type": "error",
     "traceback": [
      "\u001b[1;31m---------------------------------------------------------------------------\u001b[0m",
      "\u001b[1;31mNameError\u001b[0m                                 Traceback (most recent call last)",
      "\u001b[1;32m<ipython-input-2-bcf34113b5f8>\u001b[0m in \u001b[0;36m<module>\u001b[1;34m()\u001b[0m\n\u001b[0;32m      6\u001b[0m \u001b[1;31m# Parameters\u001b[0m\u001b[1;33m\u001b[0m\u001b[1;33m\u001b[0m\u001b[0m\n\u001b[0;32m      7\u001b[0m \u001b[0mnrun\u001b[0m \u001b[1;33m=\u001b[0m \u001b[1;36m20\u001b[0m \u001b[1;31m# Number of classsification runs\u001b[0m\u001b[1;33m\u001b[0m\u001b[0m\n\u001b[1;32m----> 8\u001b[1;33m \u001b[0mpath_to_script_dir\u001b[0m \u001b[1;33m=\u001b[0m \u001b[0mos\u001b[0m\u001b[1;33m.\u001b[0m\u001b[0mpath\u001b[0m\u001b[1;33m.\u001b[0m\u001b[0mdirname\u001b[0m\u001b[1;33m(\u001b[0m\u001b[0mos\u001b[0m\u001b[1;33m.\u001b[0m\u001b[0mpath\u001b[0m\u001b[1;33m.\u001b[0m\u001b[0mrealpath\u001b[0m\u001b[1;33m(\u001b[0m\u001b[0m__file__\u001b[0m\u001b[1;33m)\u001b[0m\u001b[1;33m)\u001b[0m\u001b[1;33m\u001b[0m\u001b[0m\n\u001b[0m\u001b[0;32m      9\u001b[0m \u001b[0mpath_to_all_runs\u001b[0m \u001b[1;33m=\u001b[0m \u001b[0mos\u001b[0m\u001b[1;33m.\u001b[0m\u001b[0mpath\u001b[0m\u001b[1;33m.\u001b[0m\u001b[0mjoin\u001b[0m\u001b[1;33m(\u001b[0m\u001b[0mpath_to_script_dir\u001b[0m\u001b[1;33m,\u001b[0m\u001b[1;34m'all_runs'\u001b[0m\u001b[1;33m)\u001b[0m\u001b[1;33m\u001b[0m\u001b[0m\n\u001b[0;32m     10\u001b[0m \u001b[0mfname_label\u001b[0m \u001b[1;33m=\u001b[0m \u001b[1;34m'class_labels.txt'\u001b[0m \u001b[1;31m# Where class labels are stored for each run\u001b[0m\u001b[1;33m\u001b[0m\u001b[0m\n",
      "\u001b[1;31mNameError\u001b[0m: name '__file__' is not defined"
     ]
    }
   ],
   "source": [
    "import os\n",
    "import numpy as np\n",
    "from scipy.ndimage import imread\n",
    "from scipy.spatial.distance import cdist\n",
    "\n",
    "# Parameters\n",
    "nrun = 20 # Number of classsification runs\n",
    "path_to_script_dir = os.path.dirname(os.path.realpath(__file__))\n",
    "path_to_all_runs = os.path.join(path_to_script_dir,'all_runs')\n",
    "fname_label = 'class_labels.txt' # Where class labels are stored for each run\n",
    "\n",
    "def classification_run(folder, f_load, f_cost, ftype='cost'):\n",
    "    # Compute error rate for one run of one-shot classification\n",
    "    # \n",
    "    # Input\n",
    "    # folder : contains images for a run of one-shot classification\n",
    "    # f_load : itemA = f_load('file.png') should read in the image file and\n",
    "    #          process it\n",
    "    # f_cost:  f_cost(itemA,itemB) should compute similarity between two\n",
    "    #          images, using output of f_load\n",
    "    # ftype : 'cost' if small values from f_cost mean more similar, \n",
    "    #          or 'score' if large values are more similar\n",
    "    #\n",
    "    # Output\n",
    "    #  perror: percent errors (0 to 100% error)\n",
    "    # \n",
    "    assert ftype in {'cost', 'score'}\n",
    "    \n",
    "    with open(os.path.join(path_to_all_runs,folder,fname_label)) as f:\n",
    "        pairs =[line.split() for line in f.readlines()]\n",
    "    # Unzip the pairs into two sets of tuples\n",
    "    test_files, train_files = zip(*pairs)\n",
    "    \n",
    "    answers_files = list(train_files) # Copy the training file list\n",
    "    test_files = sorted(test_files)\n",
    "    train_files = sorted(train_files)\n",
    "    n_train = len(train_files)\n",
    "    n_test = len(test_files)\n",
    "    \n",
    "    # Load the images (and, if needed, extract features)\n",
    "    train_items = [f_load(os.path.join(path_to_all_runs,f))\n",
    "                  for f in train_files]\n",
    "    test_items = [f_load(os.path.join(path_to_all_runs,f))\n",
    "                 for f in test_files]\n",
    "    \n",
    "    # Compute cost matrix\n",
    "    costM = np.zeros((n_test, n_train))\n",
    "    for i, test_i in enumerate(test_items):\n",
    "        for j, train_j in enuerate(train_items):\n",
    "            costM[i, j] = f_cost(test_i, train_j)\n",
    "    if ftype == 'cost':\n",
    "        y_hats = np.argmin(costM, axis=1)\n",
    "    elif ftype == 'score':\n",
    "        y_hats = np.agrmax(costM, axis=1)\n",
    "    else:\n",
    "        # This should never be reached due to the assert above\n",
    "        raise ValueError('Unexpected ftype: {}'.formate(ftype))\n",
    "        \n",
    "    # compute the error rate by counting the number of correct predictions\n",
    "    correct = len([1 for y_hat, answer in zip(y_hats, answers_files)\n",
    "                  if train_files[y_hat] == answer])\n",
    "    pcorrect = correct/ float(n_test) # Python 2.x ensure float division\n",
    "    perror = 1.0 - pcorrect\n",
    "    return perror*100\n",
    "    "
   ]
  },
  {
   "cell_type": "code",
   "execution_count": 3,
   "metadata": {},
   "outputs": [],
   "source": [
    "def modifed_hausdorf_distance(itemA, itemB):\n",
    "    # Modified Hausdorff Distance\n",
    "    #\n",
    "    # Input\n",
    "    # ItemA: [n x 2] coordinates of black pixels\n",
    "    # ItemB: [m x 2] coordinates of black pixels\n",
    "    #\n",
    "    # M.-P. Dubuission, A. K. Jain(1994). A modified hausdorff disstance for object matching.\n",
    "    # International Conference on Patter Recognition, pp.566-568\n",
    "    #\n",
    "    D = cdist(itemA, itemB)\n",
    "    mindist_A = D.min(axis=1)\n",
    "    mindist_B = D.min(aixs=0)\n",
    "    mean_A = np.mean(mindist_A)\n",
    "    mean_B = np.mean(mindist_B)\n",
    "    return max(mean_A, mean_B)"
   ]
  },
  {
   "cell_type": "code",
   "execution_count": 4,
   "metadata": {},
   "outputs": [],
   "source": [
    "def load_image_as_points(filename):\n",
    "    # Load image file and return coordinates of black pixels in the binarry image\n",
    "    # \n",
    "    # Input:\n",
    "    #   filename: string, asolute path to image\n",
    "    #\n",
    "    # Output:\n",
    "    #   D: [n x 2] rows are coordinates\n",
    "    #\n",
    "    I = imread(filename, flatten=True)\n",
    "    # Convert to boolean array and invert the pixel values\n",
    "    I = ~np.array(I,dtype=np.bool)\n",
    "    # Create a new array of all the non-zero element coordinates\n",
    "    D = np.array(I.nonzero()).T\n",
    "    return D - D.mean(axis=0)"
   ]
  },
  {
   "cell_type": "code",
   "execution_count": 5,
   "metadata": {},
   "outputs": [
    {
     "name": "stdout",
     "output_type": "stream",
     "text": [
      "One-shot classification demo with Modifed Hausdorff Distance\n"
     ]
    },
    {
     "ename": "NameError",
     "evalue": "name 'classification_run' is not defined",
     "output_type": "error",
     "traceback": [
      "\u001b[1;31m---------------------------------------------------------------------------\u001b[0m",
      "\u001b[1;31mNameError\u001b[0m                                 Traceback (most recent call last)",
      "\u001b[1;32m<ipython-input-5-08f1988443e2>\u001b[0m in \u001b[0;36m<module>\u001b[1;34m()\u001b[0m\n\u001b[0;32m     13\u001b[0m     \u001b[0mperror\u001b[0m \u001b[1;33m=\u001b[0m \u001b[0mnp\u001b[0m\u001b[1;33m.\u001b[0m\u001b[0mzeros\u001b[0m\u001b[1;33m(\u001b[0m\u001b[0mnrun\u001b[0m\u001b[1;33m)\u001b[0m\u001b[1;33m\u001b[0m\u001b[0m\n\u001b[0;32m     14\u001b[0m     \u001b[1;32mfor\u001b[0m \u001b[0mr\u001b[0m \u001b[1;32min\u001b[0m \u001b[0mrange\u001b[0m\u001b[1;33m(\u001b[0m\u001b[0mnrun\u001b[0m\u001b[1;33m)\u001b[0m\u001b[1;33m:\u001b[0m\u001b[1;33m\u001b[0m\u001b[0m\n\u001b[1;32m---> 15\u001b[1;33m         perror[r] = classification_run('run{:02d}'.format(r + 1),\n\u001b[0m\u001b[0;32m     16\u001b[0m                                       \u001b[0mload_img_as_points\u001b[0m\u001b[1;33m,\u001b[0m\u001b[1;33m\u001b[0m\u001b[0m\n\u001b[0;32m     17\u001b[0m                                       \u001b[0mmodified_hausdor_distance\u001b[0m\u001b[1;33m,\u001b[0m\u001b[1;33m\u001b[0m\u001b[0m\n",
      "\u001b[1;31mNameError\u001b[0m: name 'classification_run' is not defined"
     ]
    }
   ],
   "source": [
    "# Main function\n",
    "if __name__ == \"__main__\":\n",
    "    # \n",
    "    # Running this demo should lead to a reasult of 38.8% average error rate.\n",
    "    #\n",
    "    # M.-P Dubisson, A.K.Jain(1994). A modifed hausdorff distance for object matching.\n",
    "    #   International Conference on Pattern Recognition, pp. 566-568.\n",
    "    #\n",
    "    # ** Models should be trained on images in 'images_backgroud' directory to\n",
    "    #    avoid using iages and alphabets used in the one-short evaluation **\n",
    "    #\n",
    "    print('One-shot classification demo with Modifed Hausdorff Distance')\n",
    "    perror = np.zeros(nrun)\n",
    "    for r in range(nrun):\n",
    "        perror[r] = classification_run('run{:02d}'.format(r + 1),\n",
    "                                      load_img_as_points,\n",
    "                                      modified_hausdor_distance,\n",
    "                                      'cost')\n",
    "        print(' run {:02d} (error {:.1f}%)'.format(r,perror[r]))\n",
    "    total = np.mean(perror)\n",
    "    print('Average error {:.1f}%'.format(total))"
   ]
  }
 ],
 "metadata": {
  "kernelspec": {
   "display_name": "Python 3",
   "language": "python",
   "name": "python3"
  },
  "language_info": {
   "codemirror_mode": {
    "name": "ipython",
    "version": 3
   },
   "file_extension": ".py",
   "mimetype": "text/x-python",
   "name": "python",
   "nbconvert_exporter": "python",
   "pygments_lexer": "ipython3",
   "version": "3.6.2"
  }
 },
 "nbformat": 4,
 "nbformat_minor": 2
}
